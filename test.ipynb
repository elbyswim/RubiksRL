{
 "cells": [
  {
   "cell_type": "code",
   "execution_count": 1,
   "metadata": {
    "collapsed": true
   },
   "outputs": [],
   "source": [
    "from mcts import *"
   ]
  },
  {
   "cell_type": "code",
   "execution_count": null,
   "outputs": [
    {
     "name": "stdout",
     "output_type": "stream",
     "text": [
      "model 0\n",
      "Scramble length: 1\n"
     ]
    },
    {
     "name": "stderr",
     "output_type": "stream",
     "text": [
      "2021-12-09 21:44:26.950127: I tensorflow/core/platform/cpu_feature_guard.cc:142] This TensorFlow binary is optimized with oneAPI Deep Neural Network Library (oneDNN) to use the following CPU instructions in performance-critical operations:  AVX2 FMA\n",
      "To enable them in other operations, rebuild TensorFlow with the appropriate compiler flags.\n"
     ]
    },
    {
     "name": "stdout",
     "output_type": "stream",
     "text": [
      "753/1000 solved. 0.753 solve rate\n",
      "Average solution length: 1.1912350597609562\n",
      "Scramble length: 2\n",
      "316/1000 solved. 0.316 solve rate\n",
      "Average solution length: 2.3417721518987342\n",
      "Scramble length: 3\n",
      "72/1000 solved. 0.072 solve rate\n",
      "Average solution length: 4.055555555555555\n",
      "Scramble length: 4\n"
     ]
    }
   ],
   "source": [
    "rates = {}\n",
    "lengths = {}\n",
    "for model in range(17):\n",
    "    print('model', model)\n",
    "    rates[model], lengths[model] = gradual_test('models/model{}'.format(model), num_cubes=1000, max_moves_factor=5)"
   ],
   "metadata": {
    "collapsed": false,
    "pycharm": {
     "name": "#%%\n",
     "is_executing": true
    }
   }
  }
 ],
 "metadata": {
  "kernelspec": {
   "display_name": "Python 3",
   "language": "python",
   "name": "python3"
  },
  "language_info": {
   "codemirror_mode": {
    "name": "ipython",
    "version": 2
   },
   "file_extension": ".py",
   "mimetype": "text/x-python",
   "name": "python",
   "nbconvert_exporter": "python",
   "pygments_lexer": "ipython2",
   "version": "2.7.6"
  }
 },
 "nbformat": 4,
 "nbformat_minor": 0
}