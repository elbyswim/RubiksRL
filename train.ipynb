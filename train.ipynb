{
 "cells": [
  {
   "cell_type": "code",
   "execution_count": null,
   "metadata": {
    "collapsed": true
   },
   "outputs": [],
   "source": [
    "from adi import *\n",
    "import shutil"
   ]
  },
  {
   "cell_type": "code",
   "execution_count": null,
   "outputs": [],
   "source": [
    "model_params = [{'num_iterations':10, 'move_set':'QTM', 'reward_mode':1, 'learning_rate':1e-4},\n",
    "                {'num_iterations':10, 'move_set':'QTM', 'reward_mode':2, 'learning_rate':1e-4},\n",
    "                {'num_iterations':10, 'move_set':'QTM', 'reward_mode':1, 'learning_rate':5e-4},\n",
    "                {'num_iterations':10, 'move_set':'QTM', 'reward_mode':2, 'learning_rate':5e-4},\n",
    "                {'num_iterations':10, 'move_set':'QTM', 'reward_mode':1, 'learning_rate':5e-5},\n",
    "                {'num_iterations':10, 'move_set':'QTM', 'reward_mode':2, 'learning_rate':5e-5},\n",
    "                {'num_iterations':10, 'move_set':'QTM', 'reward_mode':1, 'learning_rate':1e-5},\n",
    "                {'num_iterations':10, 'move_set':'QTM', 'reward_mode':2, 'learning_rate':1e-5},\n",
    "                {'num_iterations':100, 'move_set':'QTM', 'reward_mode':1, 'learning_rate':1e-4},\n",
    "                {'num_iterations':100, 'move_set':'QTM', 'reward_mode':2, 'learning_rate':1e-4},\n",
    "                {'num_iterations':100, 'move_set':'QTM', 'reward_mode':1, 'learning_rate':5e-5},\n",
    "                {'num_iterations':100, 'move_set':'QTM', 'reward_mode':2, 'learning_rate':5e-5},\n",
    "                {'num_iterations':100, 'move_set':'QTM', 'reward_mode':1, 'learning_rate':1e-5},\n",
    "                {'num_iterations':100, 'move_set':'QTM', 'reward_mode':2, 'learning_rate':1e-5},\n",
    "                {'num_iterations':1000, 'move_set':'QTM', 'reward_mode':1, 'learning_rate':1e-4},\n",
    "                {'num_iterations':1000, 'move_set':'QTM', 'reward_mode':2, 'learning_rate':1e-4},\n",
    "                {'num_iterations':1000, 'move_set':'QTM', 'reward_mode':1, 'learning_rate':5e-5},\n",
    "                {'num_iterations':1000, 'move_set':'QTM', 'reward_mode':2, 'learning_rate':5e-5},\n",
    "                {'num_iterations':1000, 'move_set':'QTM', 'reward_mode':1, 'learning_rate':1e-5},\n",
    "                {'num_iterations':1000, 'move_set':'QTM', 'reward_mode':2, 'learning_rate':1e-5}]"
   ],
   "metadata": {
    "collapsed": false,
    "pycharm": {
     "name": "#%%\n"
    }
   }
  },
  {
   "cell_type": "code",
   "execution_count": null,
   "outputs": [],
   "source": [
    "for i, params in enumerate(model_params):\n",
    "    model = autodidactic_iteration(num_iterations=params['num_iterations'],\n",
    "                                   reward_mode=params['reward_mode'],\n",
    "                                   learning_rate=params['learning_rate'])\n",
    "    model.save('models/model{}'.format(i))\n",
    "    shutil.make_archive('models/model{}'.format(i), 'zip', 'models/model{}'.format(i))"
   ],
   "metadata": {
    "collapsed": false,
    "pycharm": {
     "name": "#%%\n"
    }
   }
  }
 ],
 "metadata": {
  "kernelspec": {
   "display_name": "Python 3",
   "language": "python",
   "name": "python3"
  },
  "language_info": {
   "codemirror_mode": {
    "name": "ipython",
    "version": 2
   },
   "file_extension": ".py",
   "mimetype": "text/x-python",
   "name": "python",
   "nbconvert_exporter": "python",
   "pygments_lexer": "ipython2",
   "version": "2.7.6"
  }
 },
 "nbformat": 4,
 "nbformat_minor": 0
}